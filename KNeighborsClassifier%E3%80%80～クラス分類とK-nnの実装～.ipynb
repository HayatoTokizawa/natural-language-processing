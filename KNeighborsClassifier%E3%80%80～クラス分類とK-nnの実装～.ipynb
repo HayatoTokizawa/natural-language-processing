{
 "cells": [
  {
   "cell_type": "code",
   "execution_count": 31,
   "metadata": {},
   "outputs": [],
   "source": [
    "import seaborn as sns\n",
    "# seabornをimportすると、pandasも同時にインポートしてくれるらしい。\n",
    " \n",
    "data = sns.load_dataset(\"iris\") \n",
    "# ちなみにこのirisはpandasのdataframeです。"
   ]
  },
  {
   "cell_type": "code",
   "execution_count": 32,
   "metadata": {},
   "outputs": [],
   "source": [
    "#sns.pairplot(data, hue = \"species\", diag_kind=\"kde\")\n",
    "# 変数に関するすべての関係性を図示してくれる。kdeはカーネル密度推定を通したという意味。"
   ]
  },
  {
   "cell_type": "code",
   "execution_count": 33,
   "metadata": {},
   "outputs": [],
   "source": [
    "data = data.sample(frac=1).reset_index(drop=True)\n",
    "# sampleはデータをシャッフルするモジュール。　reset_indexはインデックス指定をリセットするもの。"
   ]
  },
  {
   "cell_type": "code",
   "execution_count": 34,
   "metadata": {},
   "outputs": [
    {
     "data": {
      "text/plain": [
       "'全データが150個、そのうち120個目までを教師データとして使う'"
      ]
     },
     "execution_count": 34,
     "metadata": {},
     "output_type": "execute_result"
    }
   ],
   "source": [
    "use_row_limit = int(data.shape[0] * 0.8) \n",
    "# shapeは行数と列数を獲得するモジュール。０が行、１が列数を取得する。\n",
    " \n",
    "f\"全データが{data.shape[0]}個、そのうち{use_row_limit}個目までを教師データとして使う\"\n",
    "# f文字列＝文字列を直接ｆの変数として指定できる。"
   ]
  },
  {
   "cell_type": "code",
   "execution_count": 35,
   "metadata": {},
   "outputs": [
    {
     "data": {
      "text/plain": [
       "'全列が5個、そのうち[0, 1, 2, 3]番目にあたる列が特徴にあたる'"
      ]
     },
     "execution_count": 35,
     "metadata": {},
     "output_type": "execute_result"
    }
   ],
   "source": [
    "use_column=list(range(data.shape[1]))[:-1]\n",
    "# range関数はiterから一個ずつ要素を抜き出す。list関数でそれを一個ずつリストに格納している。そのあと、スライスで後ろから一個だけ要素を減らしている。\n",
    " \n",
    "f\"全列が{data.shape[1]}個、そのうち{use_column}番目にあたる列が特徴にあたる\"\n",
    "\n",
    "# スライスの使い方\n",
    "\n",
    "#list = [\"A\", \"B\", \"C\", \"D\", \"E\"]\n",
    "\n",
    "#slice1 = list[1:2]     # [\"B\"]\n",
    "#slice2 = list[1:-1]    # [\"B\", \"C\", \"D\"]\n",
    "#slice3 = list[1:]      # [\"B\", \"C\", \"D\", \"E\"]\n",
    "#slice4 = list[:2]      # [\"A\", \"B\"]\n",
    "#slice5 = list[:]       # [\"A\", \"B\", \"C\", \"D\", \"E\"]"
   ]
  },
  {
   "cell_type": "code",
   "execution_count": 36,
   "metadata": {},
   "outputs": [],
   "source": [
    "# トレーニングデータの用意\n",
    "train_data = data.iloc[:use_row_limit,:]\n",
    "# ilocはpandasのデータ抽出用関数。スライスの使い方はリストに近い。iloc[行数、列数]\n",
    " \n",
    "#print(train_data.shape)\n",
    "#train_data.head()"
   ]
  },
  {
   "cell_type": "code",
   "execution_count": 37,
   "metadata": {},
   "outputs": [],
   "source": [
    "# テストデータの用意\n",
    "test_data = data.iloc[use_row_limit:,:]\n",
    " \n",
    "#print(test_data.shape)\n",
    "#test_data.head()"
   ]
  },
  {
   "cell_type": "code",
   "execution_count": 38,
   "metadata": {},
   "outputs": [
    {
     "name": "stdout",
     "output_type": "stream",
     "text": [
      "1.0\n",
      "1.0\n"
     ]
    }
   ],
   "source": [
    "# クラス分類におけるk近傍法の実践\n",
    "from sklearn.neighbors import KNeighborsClassifier as KNN\n",
    "\n",
    "knn = KNN(n_neighbors=3, n_jobs=-1)\n",
    "\n",
    "knn.fit(\n",
    "    X = train_data.iloc[:,use_column].values, \n",
    "    y = train_data[\"species\"].values,\n",
    ")\n",
    "\n",
    "X_train = train_data.iloc[:,use_column].values\n",
    "Y_train = train_data[\"species\"].values\n",
    "Y_pred = knn.predict(test_data.iloc[:,use_column].values)\n",
    "Y_test = test_data[\"species\"].values\n",
    "X_test = test_data.iloc[:,use_column].values\n",
    "\n",
    "Y_pred\n",
    "#精度確認用のライブラリインポートと実行\n",
    "# accuracy_score関数は認識率を求めるもの。\n",
    "from sklearn import metrics\n",
    "a = metrics.accuracy_score(Y_test, Y_pred)\n",
    "\n",
    "# accは認識率\n",
    "acc = sum(test_data[\"species\"] == Y_pred) / len(Y_pred) # test_dataと予測が一致した数と予測のデータ数を割る。\n",
    "\n",
    "print(a)\n",
    "print(acc)"
   ]
  },
  {
   "cell_type": "code",
   "execution_count": 39,
   "metadata": {},
   "outputs": [
    {
     "data": {
      "text/plain": [
       "[<matplotlib.lines.Line2D at 0x12a140eec50>]"
      ]
     },
     "execution_count": 39,
     "metadata": {},
     "output_type": "execute_result"
    },
    {
     "data": {
      "image/png": "[encoded data removed]",
      "text/plain": [
       "<Figure size 432x288 with 1 Axes>"
      ]
     },
     "metadata": {
      "needs_background": "light"
     },
     "output_type": "display_data"
    }
   ],
   "source": [
    "# kの値を推測する。\n",
    "import matplotlib.pyplot as plt\n",
    "%matplotlib inline\n",
    "\n",
    "accuracy = []\n",
    "for k in range(1, 90):\n",
    "    knn = KNN(n_neighbors=k) # インスタンス生成。\n",
    "    knn.fit(X_train,Y_train)                 # モデル作成実行\n",
    "    Y_pred = knn.predict(X_test)              # 予測実行\n",
    "    accuracy.append(metrics.accuracy_score(Y_test, Y_pred)) # 精度格納\n",
    "\n",
    "k_range = list(range(1, 90))\n",
    "plt.plot(k_range, accuracy)"
   ]
  }
 ],
 "metadata": {
  "kernelspec": {
   "display_name": "Python 3",
   "language": "python",
   "name": "python3"
  },
  "language_info": {
   "codemirror_mode": {
    "name": "ipython",
    "version": 3
   },
   "file_extension": ".py",
   "mimetype": "text/x-python",
   "name": "python",
   "nbconvert_exporter": "python",
   "pygments_lexer": "ipython3",
   "version": "3.7.1"
  }
 },
 "nbformat": 4,
 "nbformat_minor": 2
}
