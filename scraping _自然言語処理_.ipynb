{
 "cells": [
  {
   "cell_type": "code",
   "execution_count": null,
   "metadata": {},
   "outputs": [],
   "source": [
    "import urllib.request\n",
    "from time import sleep\n",
    "from bs4 import BeautifulSoup\n",
    "import MeCab\n",
    "import numpy as np\n",
    "from sklearn.feature_extraction.text import TfidfVectorizer"
   ]
  },
  {
   "cell_type": "code",
   "execution_count": null,
   "metadata": {},
   "outputs": [],
   "source": [
    "def url2text(urls):\n",
    "    article = []\n",
    "    for url in urls:\n",
    "        print(url + \"のデータを取得しています\")\n",
    "        html = urllib.request.urlopen(url)\n",
    "        soup = BeautifulSoup(html,\"html.parser\")\n",
    "        soup_article = soup.find(\"div\", class_=\"mw-parser-output\")\n",
    "        soup_article= soup_article.get_text()\n",
    "        sleep(3)\n",
    "    return article"
   ]
  },
  {
   "cell_type": "code",
   "execution_count": null,
   "metadata": {},
   "outputs": [],
   "source": [
    "def mplg(article):\n",
    "    word_list = \"\"\n",
    "    m = MeCab.Tagger () # ←Taggerって何？\n",
    "    m_article = m.parse (article) # parceって何?\n",
    "\n",
    "    for row in m_article.split(\"\\n\"):\n",
    "        word =row.split(\"\\t\")[0]#タブ区切りになっている１つ目を取り出す。ここには形態素が格納されている\n",
    "        if word == \"EOS\": # EOSって何？\n",
    "            break\n",
    "        else:\n",
    "            pos = row.split(\"\\t\")[1]#タブ区切りになっている2つ目を取り出す。ここには品詞が格納されている\n",
    "            slice = pos[:2] # この書き方不明\n",
    "            if slice == \"名詞\":\n",
    "                word_list = word_list +\" \"+ word\n",
    "    return word_list"
   ]
  },
  {
   "cell_type": "code",
   "execution_count": null,
   "metadata": {},
   "outputs": [],
   "source": [
    "def tfidf(word_list):\n",
    "    docs = np.array(word_list)#Numpyの配列に変換する\n",
    "    #単語を配列ベクトル化して、TF-IDFを計算する\n",
    "    vecs = TfidfVectorizer(\n",
    "                token_pattern=u'(?u)\\\\b\\\\w+\\\\b'#文字列長が 1 の単語を処理対象に含めることを意味します。\n",
    "                ).fit_transform(docs) # TfidfVectorizer,.fit_transformを調べる。\n",
    "    vecs = vecs.toarray()\n",
    "    return vecs"
   ]
  },
  {
   "cell_type": "code",
   "execution_count": null,
   "metadata": {},
   "outputs": [],
   "source": [
    "def cossim(v1,v2):\n",
    "    return np.dot(v1, v2) / (np.linalg.norm(v1) * np.linalg.norm(v2))\n",
    "\n",
    "# コサイン類似度とは？"
   ]
  },
  {
   "cell_type": "code",
   "execution_count": null,
   "metadata": {},
   "outputs": [],
   "source": [
    "def main():\n",
    "    article = url2text([\n",
    "            \"http://mensnote.boy.jp/document/html.html\"\n",
    "            ])\n",
    "    word_list = []\n",
    "    for article in article:\n",
    "        word_list.append(mplg(article))\n",
    "    vecs = tfidf(word_list)\n",
    "\n",
    "    print(\"HTMLとPython\")\n",
    "    print(cossim(vecs[1],vecs[0]))\n",
    "\n",
    "main()"
   ]
  }
 ],
 "metadata": {
  "kernelspec": {
   "display_name": "Python 3",
   "language": "python",
   "name": "python3"
  },
  "language_info": {
   "codemirror_mode": {
    "name": "ipython",
    "version": 3
   },
   "file_extension": ".py",
   "mimetype": "text/x-python",
   "name": "python",
   "nbconvert_exporter": "python",
   "pygments_lexer": "ipython3",
   "version": "3.7.1"
  }
 },
 "nbformat": 4,
 "nbformat_minor": 2
}
