{
 "cells": [
  {
   "cell_type": "code",
   "execution_count": 2,
   "metadata": {},
   "outputs": [],
   "source": [
    "# spreadsheetsから引っ張ってくる。\n",
    "link =  \"https://www.mafolova.biz/sellers/terms_of_acquisitions?utf8=✓&terms_of_acquisition_search_form[query]=&terms_of_acquisition_search_form[subindustry_ids][]=&terms_of_acquisition_search_form[area_ids][]=&terms_of_acquisition_search_form[area_ids][]=3&commit=絞り込み\""
   ]
  },
  {
   "cell_type": "code",
   "execution_count": 8,
   "metadata": {},
   "outputs": [
    {
     "name": "stdout",
     "output_type": "stream",
     "text": [
      "\n",
      "\n",
      "3\n"
     ]
    }
   ],
   "source": [
    "keyword_list = [\"[query]=\", \"[subindustry_ids][]=&terms_of_acquisition_search_form[subindustry_ids][]=\", \"[area_ids][]=&terms_of_acquisition_search_form[area_ids][]=\"]\n",
    "\n",
    "for keyword in keyword_list:\n",
    "    # urlのfor文を書く\n",
    "    n = link.find(keyword)\n",
    "    if n != -1:\n",
    "        middle = link[n+len(keyword):]\n",
    "        m = middle.find(\"&\")\n",
    "        query = middle[:m]\n",
    "        print(query)\n",
    "    else:\n",
    "        print(\"\")"
   ]
  }
 ],
 "metadata": {
  "kernelspec": {
   "display_name": "Python 3",
   "language": "python",
   "name": "python3"
  },
  "language_info": {
   "codemirror_mode": {
    "name": "ipython",
    "version": 3
   },
   "file_extension": ".py",
   "mimetype": "text/x-python",
   "name": "python",
   "nbconvert_exporter": "python",
   "pygments_lexer": "ipython3",
   "version": "3.7.1"
  }
 },
 "nbformat": 4,
 "nbformat_minor": 2
}
