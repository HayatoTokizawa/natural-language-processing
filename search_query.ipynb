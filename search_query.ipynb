{
 "cells": [
  {
   "cell_type": "code",
   "execution_count": 36,
   "metadata": {},
   "outputs": [],
   "source": [
    "link =  \"https://www.mafolova.biz/sellers/terms_of_acquisitions?utf8=✓&terms_of_acquisition_search_form[query]=&terms_of_acquisition_search_form[subindustry_ids][]=&terms_of_acquisition_search_form[area_ids][]=&terms_of_acquisition_search_form[area_ids][]=3&commit=絞り込み\""
   ]
  },
  {
   "cell_type": "code",
   "execution_count": 37,
   "metadata": {},
   "outputs": [
    {
     "name": "stdout",
     "output_type": "stream",
     "text": [
      "94\n",
      "\n",
      "-1\n",
      "cquisition_search_form[query]=\n",
      "188\n",
      "3\n"
     ]
    }
   ],
   "source": [
    "keyword_list = [\"[query]=\", \"[subindustry_ids][]=&terms_of_acquisition_search_form[subindustry_ids][]=\"\\\n",
    "                , \"[area_ids][]=&terms_of_acquisition_search_form[area_ids][]=\"]\n",
    "\n",
    "for keyword in keyword_list:\n",
    "    n = link.find(keyword)\n",
    "    print(n)\n",
    "    count = keyword\n",
    "    middle = link[n+len(count):]\n",
    "    m = middle.find(\"&\")\n",
    "    query = middle[:m]\n",
    "    print(query)"
   ]
  }
 ],
 "metadata": {
  "kernelspec": {
   "display_name": "Python 3",
   "language": "python",
   "name": "python3"
  },
  "language_info": {
   "codemirror_mode": {
    "name": "ipython",
    "version": 3
   },
   "file_extension": ".py",
   "mimetype": "text/x-python",
   "name": "python",
   "nbconvert_exporter": "python",
   "pygments_lexer": "ipython3",
   "version": "3.7.1"
  }
 },
 "nbformat": 4,
 "nbformat_minor": 2
}
